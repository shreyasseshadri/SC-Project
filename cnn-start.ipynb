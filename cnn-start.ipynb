{
 "cells": [
  {
   "cell_type": "code",
   "execution_count": 33,
   "metadata": {},
   "outputs": [
    {
     "name": "stdout",
     "output_type": "stream",
     "text": [
      "imported data.....\n"
     ]
    }
   ],
   "source": [
    "import pandas as pd\n",
    "train_pos=pd.read_csv('./data/imdb/train/pos.csv')\n",
    "train_neg=pd.read_csv('./data/imdb/train/neg.csv')\n",
    "test_pos=pd.read_csv('./data/imdb/test/pos.csv')\n",
    "test_neg=pd.read_csv('./data/imdb/test/neg.csv')\n",
    "print('imported data.....')\n",
    "\n",
    "def clear_text(text):\n",
    "    return text.replace('\"', '').replace(\"'\", \"\").replace(\"<br />\",\"\").replace(\",\",\"\").replace(\"(\",\"\").replace(\")\",\"\").replace(\"-\",\"\").replace(\"/\",\"\").replace(\"!\",\"\")\n",
    "# train_pos['text']=train_pos['text'].apply(clear_text)\n",
    "# print(train_pos[train_pos.id==0]['text'])\n",
    "# for word in train_pos[train_pos.id==0]['text']:\n",
    "#     print(word,end=' ')\n",
    "\n",
    "\n",
    "# li=train_pos[train_pos.id==0]['text'].apply(lambda x:x.split('.'))\n",
    "# for word in li:\n",
    "#     print(word,end=' ')\n",
    "# # print(train_pos['t'])\n",
    "\n",
    "train_pos_sent=train_pos['text'].apply(clear_text).tolist()\n",
    "train_neg_sent=train_neg['text'].apply(clear_text).tolist()\n",
    "test_pos_sent=test_pos['text'].apply(clear_text).tolist()\n",
    "test_neg_sent=test_neg['text'].apply(clear_text).tolist()\n",
    "\n",
    "\n",
    "corpus=train_pos_sent+train_neg_sent+test_pos_sent+test_neg_sent\n"
   ]
  },
  {
   "cell_type": "code",
   "execution_count": 34,
   "metadata": {},
   "outputs": [
    {
     "name": "stdout",
     "output_type": "stream",
     "text": [
      "[nltk_data] Downloading package stopwords to /root/nltk_data...\n",
      "[nltk_data]   Package stopwords is already up-to-date!\n"
     ]
    },
    {
     "data": {
      "text/plain": [
       "True"
      ]
     },
     "execution_count": 34,
     "metadata": {},
     "output_type": "execute_result"
    }
   ],
   "source": [
    "import nltk\n",
    "nltk.download('stopwords')"
   ]
  },
  {
   "cell_type": "code",
   "execution_count": 35,
   "metadata": {},
   "outputs": [],
   "source": [
    "from nltk.corpus import stopwords\n",
    "words=[]\n",
    "for review in corpus:\n",
    "    review_words=[]\n",
    "    review_sents=review.split(\".\")\n",
    "    for sent in review_sents:\n",
    "        review_words.extend(sent.split(\" \"))\n",
    "#         review_words.extend([word for word in sent.split(\" \") if word not in stopwords.words('english')])\n",
    "    words.append(review_words)"
   ]
  },
  {
   "cell_type": "code",
   "execution_count": 36,
   "metadata": {},
   "outputs": [],
   "source": [
    "import keras"
   ]
  },
  {
   "cell_type": "code",
   "execution_count": 59,
   "metadata": {},
   "outputs": [],
   "source": [
    "import numpy as np\n",
    "from keras.models import Model\n",
    "from keras.layers import Input, Dense,Conv2D ,LSTM,Lambda\n",
    "from keras.layers import AveragePooling2D, MaxPooling2D, Dropout, GlobalMaxPooling2D, GlobalAveragePooling2D\n",
    "from keras.utils import np_utils\n",
    "from keras import backend as K\n",
    "tf_session = K.get_session()\n",
    "import tensorflow as tf"
   ]
  },
  {
   "cell_type": "code",
   "execution_count": 62,
   "metadata": {},
   "outputs": [],
   "source": [
    "def stack_dim(X):\n",
    "    conv_outputs=tf.unstack(X,axis=3)\n",
    "    return tf.concat(conv_outputs,axis=1)\n",
    "\n",
    "def get_shape(input_shape):\n",
    "    assert len(input_shape)==4\n",
    "    return (input_shape[0],input_shape[1]*input_shape[3],input_shape[2])\n",
    "\n",
    "def model(input_shape,hidden_size,dense_layer1,dense_layer2):\n",
    "    X_input=Input(input_shape)\n",
    "    X=Conv2D(32, (5, 5), input_shape=input_shape, activation='relu')(X_input)\n",
    "    X=Lambda(stack_dim,output_shape=get_shape)(X)\n",
    "    X=LSTM(hidden_size,return_sequences=True)(X)\n",
    "    X=Dense(dense_layer1, activation='relu')(X)\n",
    "    X=Dense(dense_layer2, activation='relu')(X)\n",
    "    model = Model(inputs = X_input, outputs = X, name='sent_classifier')\n",
    "    return model"
   ]
  },
  {
   "cell_type": "code",
   "execution_count": 63,
   "metadata": {},
   "outputs": [],
   "source": [
    "import numpy as np\n",
    "m=model((300,150,1),128,100,2)"
   ]
  },
  {
   "cell_type": "code",
   "execution_count": 65,
   "metadata": {
    "scrolled": true
   },
   "outputs": [
    {
     "name": "stdout",
     "output_type": "stream",
     "text": [
      "_________________________________________________________________\n",
      "Layer (type)                 Output Shape              Param #   \n",
      "=================================================================\n",
      "input_7 (InputLayer)         (None, 300, 150, 1)       0         \n",
      "_________________________________________________________________\n",
      "conv2d_7 (Conv2D)            (None, 296, 146, 32)      832       \n",
      "_________________________________________________________________\n",
      "lambda_5 (Lambda)            (None, 9472, 146)         0         \n",
      "_________________________________________________________________\n",
      "lstm_3 (LSTM)                (None, 9472, 128)         140800    \n",
      "_________________________________________________________________\n",
      "dense_3 (Dense)              (None, 9472, 100)         12900     \n",
      "_________________________________________________________________\n",
      "dense_4 (Dense)              (None, 9472, 2)           202       \n",
      "=================================================================\n",
      "Total params: 154,734\n",
      "Trainable params: 154,734\n",
      "Non-trainable params: 0\n",
      "_________________________________________________________________\n"
     ]
    }
   ],
   "source": [
    "m.summary()"
   ]
  },
  {
   "cell_type": "code",
   "execution_count": 52,
   "metadata": {},
   "outputs": [],
   "source": [
    "from gensim.models import Word2Vec\n",
    "new_model = Word2Vec.load('model.bin')"
   ]
  },
  {
   "cell_type": "code",
   "execution_count": null,
   "metadata": {},
   "outputs": [],
   "source": []
  }
 ],
 "metadata": {
  "kernelspec": {
   "display_name": "Python 2",
   "language": "python",
   "name": "python2"
  },
  "language_info": {
   "codemirror_mode": {
    "name": "ipython",
    "version": 2
   },
   "file_extension": ".py",
   "mimetype": "text/x-python",
   "name": "python",
   "nbconvert_exporter": "python",
   "pygments_lexer": "ipython2",
   "version": "2.7.12"
  }
 },
 "nbformat": 4,
 "nbformat_minor": 2
}
