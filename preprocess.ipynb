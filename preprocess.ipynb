{
  "nbformat": 4,
  "nbformat_minor": 0,
  "metadata": {
    "colab": {
      "name": "preprocess.ipynb",
      "version": "0.3.2",
      "provenance": [],
      "collapsed_sections": [],
      "include_colab_link": true
    },
    "kernelspec": {
      "name": "python2",
      "display_name": "Python 2"
    },
    "accelerator": "TPU"
  },
  "cells": [
    {
      "cell_type": "markdown",
      "metadata": {
        "id": "view-in-github",
        "colab_type": "text"
      },
      "source": [
        "<a href=\"https://colab.research.google.com/github/shreyasseshadri/SC-Project/blob/master/preprocess.ipynb\" target=\"_parent\"><img src=\"https://colab.research.google.com/assets/colab-badge.svg\" alt=\"Open In Colab\"/></a>"
      ]
    },
    {
      "metadata": {
        "id": "LZ3cx71Iw-VT",
        "colab_type": "code",
        "colab": {
          "base_uri": "https://localhost:8080/",
          "height": 34
        },
        "outputId": "a7015b7f-9f90-4895-e948-0842604a92bf"
      },
      "cell_type": "code",
      "source": [
        "%reset"
      ],
      "execution_count": 23,
      "outputs": [
        {
          "output_type": "stream",
          "text": [
            "Once deleted, variables cannot be recovered. Proceed (y/[n])? y\n"
          ],
          "name": "stdout"
        }
      ]
    },
    {
      "metadata": {
        "id": "eBIW3224NEcK",
        "colab_type": "code",
        "colab": {
          "base_uri": "https://localhost:8080/",
          "height": 34
        },
        "outputId": "cf644cb5-0cf6-4683-a322-6bf932cd03c6"
      },
      "cell_type": "code",
      "source": [
        "# # Load the Drive helper and mount\n",
        "from google.colab import drive\n",
        "\n",
        "# # This will prompt for authorization.\n",
        "drive.mount('/content/drive')"
      ],
      "execution_count": 24,
      "outputs": [
        {
          "output_type": "stream",
          "text": [
            "Drive already mounted at /content/drive; to attempt to forcibly remount, call drive.mount(\"/content/drive\", force_remount=True).\n"
          ],
          "name": "stdout"
        }
      ]
    },
    {
      "metadata": {
        "id": "DRAhcOB-NPhF",
        "colab_type": "code",
        "colab": {
          "base_uri": "https://localhost:8080/",
          "height": 34
        },
        "outputId": "bb11e668-23ac-426b-9b01-348ffa1e7dfd"
      },
      "cell_type": "code",
      "source": [
        "!pip install unidecode"
      ],
      "execution_count": 2,
      "outputs": [
        {
          "output_type": "stream",
          "text": [
            "Requirement already satisfied: unidecode in /usr/local/lib/python2.7/dist-packages (1.0.22)\n"
          ],
          "name": "stdout"
        }
      ]
    },
    {
      "metadata": {
        "id": "ZUuV4cl2NA5B",
        "colab_type": "code",
        "colab": {
          "base_uri": "https://localhost:8080/",
          "height": 34
        },
        "outputId": "55abb3e4-8dc2-4210-b4b0-3458f8c1dc5b"
      },
      "cell_type": "code",
      "source": [
        "import pandas as pd\n",
        "from unidecode import unidecode\n",
        "\n",
        "base_path=\"drive/My Drive/SC-Project\"\n",
        "train_pos=pd.read_csv(base_path+'/train/pos.csv')\n",
        "train_neg=pd.read_csv(base_path+'/train/neg.csv')\n",
        "test_pos=pd.read_csv(base_path+'/test/pos.csv')\n",
        "test_neg=pd.read_csv(base_path+'/test/neg.csv')\n",
        "print('imported data.....')\n",
        "\n",
        "def clear_text(text):\n",
        "    text=unidecode(unicode(text, encoding = \"utf-8\"))\n",
        "    return text.replace('\"', '').replace(\"'\", \"\").replace(\"<br />\",\"\").replace(\",\",\"\").replace(\"(\",\"\").replace(\")\",\"\").replace(\"-\",\"\").replace(\"/\",\"\").replace(\"!\",\"\").encode(\"ascii\", \"ignore\")\n",
        "\n",
        "train_pos_sent=train_pos['text'].apply(clear_text).tolist()\n",
        "train_neg_sent=train_neg['text'].apply(clear_text).tolist()\n",
        "test_pos_sent=test_pos['text'].apply(clear_text).tolist()\n",
        "test_neg_sent=test_neg['text'].apply(clear_text).tolist()\n",
        "\n",
        "\n",
        "corpus_train=train_pos_sent+train_neg_sent\n",
        "corpus_test=test_pos_sent+test_neg_sent\n"
      ],
      "execution_count": 3,
      "outputs": [
        {
          "output_type": "stream",
          "text": [
            "imported data.....\n"
          ],
          "name": "stdout"
        }
      ]
    },
    {
      "metadata": {
        "id": "SZD0PbFCNA5K",
        "colab_type": "code",
        "colab": {
          "base_uri": "https://localhost:8080/",
          "height": 102
        },
        "outputId": "8d2eb425-ca6b-42d6-b231-83ae5ea41c03"
      },
      "cell_type": "code",
      "source": [
        "!pip install nltk\n",
        "import nltk\n",
        "nltk.download('stopwords')"
      ],
      "execution_count": 4,
      "outputs": [
        {
          "output_type": "stream",
          "text": [
            "Requirement already satisfied: nltk in /usr/local/lib/python2.7/dist-packages (3.2.5)\n",
            "Requirement already satisfied: six in /usr/local/lib/python2.7/dist-packages (from nltk) (1.11.0)\n",
            "[nltk_data] Downloading package stopwords to /root/nltk_data...\n",
            "[nltk_data]   Unzipping corpora/stopwords.zip.\n"
          ],
          "name": "stdout"
        },
        {
          "output_type": "execute_result",
          "data": {
            "text/plain": [
              "True"
            ]
          },
          "metadata": {
            "tags": []
          },
          "execution_count": 4
        }
      ]
    },
    {
      "metadata": {
        "id": "IosddaThNA5P",
        "colab_type": "code",
        "colab": {}
      },
      "cell_type": "code",
      "source": [
        "from nltk.corpus import stopwords\n",
        "from __future__ import print_function\n",
        "def create_corpus(corpus):\n",
        "    corpus_out=[]\n",
        "    sw=stopwords.words('english')\n",
        "    count=1\n",
        "    new_reviews=[]\n",
        "    for review in corpus:\n",
        "        review_sents=review.split(\".\")\n",
        "        new_review_sent=[]\n",
        "        for sent in review_sents:\n",
        "            temp=sent.split(\" \")\n",
        "            for word in temp:\n",
        "                if word=='' or word==' ' or word in sw:\n",
        "                    temp.remove(word)\n",
        "            new_review_sent+=temp\n",
        "            corpus_out.append(temp)\n",
        "        new_reviews.append(new_review_sent)\n",
        "        s=str(count)+'/'+str(len(corpus))+' done!'\n",
        "        if count%1==0:\n",
        "          print(s,end='\\r')\n",
        "        count+=1\n",
        "    return corpus_out,new_reviews"
      ],
      "execution_count": 0,
      "outputs": []
    },
    {
      "metadata": {
        "id": "qrG91tvcNA5T",
        "colab_type": "code",
        "colab": {
          "base_uri": "https://localhost:8080/",
          "height": 17
        },
        "outputId": "3958e15d-f5d8-4476-e780-40605181e58c"
      },
      "cell_type": "code",
      "source": [
        "train_wv,train_sent=create_corpus(corpus_train)"
      ],
      "execution_count": 5,
      "outputs": [
        {
          "output_type": "stream",
          "text": [
            ""
          ],
          "name": "stdout"
        }
      ]
    },
    {
      "metadata": {
        "id": "4VPgGpD-Fy4E",
        "colab_type": "code",
        "colab": {
          "base_uri": "https://localhost:8080/",
          "height": 17
        },
        "outputId": "bb177b35-8014-46b9-c05e-2408237f7bc7"
      },
      "cell_type": "code",
      "source": [
        "test_wv,test_sent=create_corpus(corpus_test)"
      ],
      "execution_count": 6,
      "outputs": [
        {
          "output_type": "stream",
          "text": [
            ""
          ],
          "name": "stdout"
        }
      ]
    },
    {
      "metadata": {
        "id": "x54EEqdDNsm8",
        "colab_type": "code",
        "colab": {
          "base_uri": "https://localhost:8080/",
          "height": 360
        },
        "outputId": "13a6d5ae-d44f-45b2-da42-47f06e7ae4c0"
      },
      "cell_type": "code",
      "source": [
        "!pip install gensim"
      ],
      "execution_count": 7,
      "outputs": [
        {
          "output_type": "stream",
          "text": [
            "Requirement already satisfied: gensim in /usr/local/lib/python2.7/dist-packages (3.6.0)\n",
            "Requirement already satisfied: smart-open>=1.2.1 in /usr/local/lib/python2.7/dist-packages (from gensim) (1.7.1)\n",
            "Requirement already satisfied: six>=1.5.0 in /usr/local/lib/python2.7/dist-packages (from gensim) (1.11.0)\n",
            "Requirement already satisfied: scipy>=0.18.1 in /usr/local/lib/python2.7/dist-packages (from gensim) (0.19.1)\n",
            "Requirement already satisfied: numpy>=1.11.3 in /usr/local/lib/python2.7/dist-packages (from gensim) (1.14.6)\n",
            "Requirement already satisfied: bz2file in /usr/local/lib/python2.7/dist-packages (from smart-open>=1.2.1->gensim) (0.98)\n",
            "Requirement already satisfied: boto>=2.32 in /usr/local/lib/python2.7/dist-packages (from smart-open>=1.2.1->gensim) (2.49.0)\n",
            "Requirement already satisfied: requests in /usr/local/lib/python2.7/dist-packages (from smart-open>=1.2.1->gensim) (2.18.4)\n",
            "Requirement already satisfied: boto3 in /usr/local/lib/python2.7/dist-packages (from smart-open>=1.2.1->gensim) (1.9.35)\n",
            "Requirement already satisfied: idna<2.7,>=2.5 in /usr/local/lib/python2.7/dist-packages (from requests->smart-open>=1.2.1->gensim) (2.6)\n",
            "Requirement already satisfied: urllib3<1.23,>=1.21.1 in /usr/local/lib/python2.7/dist-packages (from requests->smart-open>=1.2.1->gensim) (1.22)\n",
            "Requirement already satisfied: certifi>=2017.4.17 in /usr/local/lib/python2.7/dist-packages (from requests->smart-open>=1.2.1->gensim) (2018.10.15)\n",
            "Requirement already satisfied: chardet<3.1.0,>=3.0.2 in /usr/local/lib/python2.7/dist-packages (from requests->smart-open>=1.2.1->gensim) (3.0.4)\n",
            "Requirement already satisfied: jmespath<1.0.0,>=0.7.1 in /usr/local/lib/python2.7/dist-packages (from boto3->smart-open>=1.2.1->gensim) (0.9.3)\n",
            "Requirement already satisfied: botocore<1.13.0,>=1.12.35 in /usr/local/lib/python2.7/dist-packages (from boto3->smart-open>=1.2.1->gensim) (1.12.35)\n",
            "Requirement already satisfied: s3transfer<0.2.0,>=0.1.10 in /usr/local/lib/python2.7/dist-packages (from boto3->smart-open>=1.2.1->gensim) (0.1.13)\n",
            "Requirement already satisfied: docutils>=0.10 in /usr/local/lib/python2.7/dist-packages (from botocore<1.13.0,>=1.12.35->boto3->smart-open>=1.2.1->gensim) (0.14)\n",
            "Requirement already satisfied: python-dateutil<3.0.0,>=2.1; python_version >= \"2.7\" in /usr/local/lib/python2.7/dist-packages (from botocore<1.13.0,>=1.12.35->boto3->smart-open>=1.2.1->gensim) (2.5.3)\n",
            "Requirement already satisfied: futures<4.0.0,>=2.2.0; python_version == \"2.6\" or python_version == \"2.7\" in /usr/local/lib/python2.7/dist-packages (from s3transfer<0.2.0,>=0.1.10->boto3->smart-open>=1.2.1->gensim) (3.2.0)\n"
          ],
          "name": "stdout"
        }
      ]
    },
    {
      "metadata": {
        "id": "5ICezXGSNA5g",
        "colab_type": "code",
        "colab": {
          "base_uri": "https://localhost:8080/",
          "height": 34
        },
        "outputId": "cc8f0d02-bc32-4e10-8df1-b6fcf8a01e59"
      },
      "cell_type": "code",
      "source": [
        "# from gensim.models import Word2Vec\n",
        "# model = Word2Vec(train_wv+test_wv, min_count=1,seed=123)\n",
        "# print(model)"
      ],
      "execution_count": 53,
      "outputs": [
        {
          "output_type": "stream",
          "text": [
            "Word2Vec(vocab=213207, size=100, alpha=0.025)\n"
          ],
          "name": "stdout"
        }
      ]
    },
    {
      "metadata": {
        "id": "YjwulLCeNA5k",
        "colab_type": "code",
        "colab": {
          "base_uri": "https://localhost:8080/",
          "height": 54
        },
        "outputId": "4b4c339b-53b0-49a7-804f-b592b4607761"
      },
      "cell_type": "code",
      "source": [
        "# words = list(model.wv.vocab)\n",
        "# print(words[:19]+['dscd'])"
      ],
      "execution_count": 61,
      "outputs": [
        {
          "output_type": "stream",
          "text": [
            "['', 'Feijo', 'selfexplanatorywhich', 'Craziness', 'RollsRoyce', 'EXPLAIN', 'sunflowers?', 'fleeces', 'considered?', 'woods', 'spiders', 'nohopers', 'considered:', 'ultimatley', 'woody', 'trawling', 'goodbetter', 'comically', 'spidery', 'dscd']\n"
          ],
          "name": "stdout"
        }
      ]
    },
    {
      "metadata": {
        "id": "S5NAoKUzNA5p",
        "colab_type": "code",
        "colab": {
          "base_uri": "https://localhost:8080/",
          "height": 34
        },
        "outputId": "723c32ee-fa49-4a0d-bc0e-52e5b267b1e4"
      },
      "cell_type": "code",
      "source": [
        "# model.save('drive/My Drive/SC-Project/model.bin')\n",
        "# print(\"model saved\")"
      ],
      "execution_count": 57,
      "outputs": [
        {
          "output_type": "stream",
          "text": [
            "model saved\n"
          ],
          "name": "stdout"
        }
      ]
    },
    {
      "metadata": {
        "id": "0tEPgurGNA6L",
        "colab_type": "code",
        "colab": {}
      },
      "cell_type": "code",
      "source": [
        "from gensim.models import Word2Vec\n",
        "model = Word2Vec.load('drive/My Drive/SC-Project/model.bin')"
      ],
      "execution_count": 0,
      "outputs": []
    },
    {
      "metadata": {
        "id": "kVCKBXvANUmI",
        "colab_type": "code",
        "colab": {}
      },
      "cell_type": "code",
      "source": [
        "import numpy as np"
      ],
      "execution_count": 0,
      "outputs": []
    },
    {
      "metadata": {
        "id": "J8PQwbb-NA61",
        "colab_type": "code",
        "colab": {}
      },
      "cell_type": "code",
      "source": [
        "def make_data(corpus,maxlen):\n",
        "    data=[]\n",
        "    for review in corpus:\n",
        "        temp=model[review]\n",
        "        if len(review)<maxlen:\n",
        "            temp=np.concatenate((temp,np.zeros((maxlen-len(review),100))),0)\n",
        "        else:\n",
        "            temp=temp[:maxlen]\n",
        "        data.append(temp)\n",
        "    return np.array(data)"
      ],
      "execution_count": 0,
      "outputs": []
    },
    {
      "metadata": {
        "id": "_pxdS6hAOpUR",
        "colab_type": "code",
        "colab": {
          "base_uri": "https://localhost:8080/",
          "height": 71
        },
        "outputId": "669decef-a977-479b-d660-8152fd4fc753"
      },
      "cell_type": "code",
      "source": [
        "train_data=make_data(train_sent,150)"
      ],
      "execution_count": 12,
      "outputs": [
        {
          "output_type": "stream",
          "text": [
            "/usr/local/lib/python2.7/dist-packages/ipykernel_launcher.py:4: DeprecationWarning: Call to deprecated `__getitem__` (Method will be removed in 4.0.0, use self.wv.__getitem__() instead).\n",
            "  after removing the cwd from sys.path.\n"
          ],
          "name": "stderr"
        }
      ]
    },
    {
      "metadata": {
        "id": "ubz9fxCQUkpt",
        "colab_type": "code",
        "colab": {
          "base_uri": "https://localhost:8080/",
          "height": 71
        },
        "outputId": "34204f0f-991e-48a0-a7f5-92e8006fcb0c"
      },
      "cell_type": "code",
      "source": [
        "test_data=make_data(test_sent,150)"
      ],
      "execution_count": 13,
      "outputs": [
        {
          "output_type": "stream",
          "text": [
            "/usr/local/lib/python2.7/dist-packages/ipykernel_launcher.py:4: DeprecationWarning: Call to deprecated `__getitem__` (Method will be removed in 4.0.0, use self.wv.__getitem__() instead).\n",
            "  after removing the cwd from sys.path.\n"
          ],
          "name": "stderr"
        }
      ]
    },
    {
      "metadata": {
        "id": "Etg5wr9cPEru",
        "colab_type": "code",
        "colab": {}
      },
      "cell_type": "code",
      "source": [
        "train_data=np.expand_dims(train_data,3)\n",
        "test_data=np.expand_dims(test_data,3)"
      ],
      "execution_count": 0,
      "outputs": []
    },
    {
      "metadata": {
        "id": "RrnGtPowVeik",
        "colab_type": "code",
        "colab": {
          "base_uri": "https://localhost:8080/",
          "height": 34
        },
        "outputId": "c5687d02-3249-47e4-8645-5d610017d207"
      },
      "cell_type": "code",
      "source": [
        "train_y=[1 for _ in range(len(train_pos_sent))]+[0 for _ in range(len(train_neg_sent))]\n",
        "test_y=[1 for _ in range(len(test_pos_sent))]+[0 for _ in range(len(test_neg_sent))]\n",
        "from keras.utils import np_utils\n",
        "y_train=np_utils.to_categorical(train_y)\n",
        "y_test=np_utils.to_categorical(test_y)"
      ],
      "execution_count": 15,
      "outputs": [
        {
          "output_type": "stream",
          "text": [
            "Using TensorFlow backend.\n"
          ],
          "name": "stderr"
        }
      ]
    },
    {
      "metadata": {
        "id": "X7OliktxYNve",
        "colab_type": "code",
        "colab": {}
      },
      "cell_type": "code",
      "source": [
        "np.random.seed(123)\n",
        "train_indices = np.arange(train_data.shape[0])\n",
        "test_indices= np.arange(test_data.shape[0])\n",
        "np.random.shuffle(train_indices)\n",
        "np.random.shuffle(test_indices)\n",
        "train_data = train_data[train_indices]\n",
        "y_train = y_train[train_indices]\n",
        "test_data = test_data[test_indices]\n",
        "y_test = y_test[test_indices]"
      ],
      "execution_count": 0,
      "outputs": []
    },
    {
      "metadata": {
        "id": "qveevGKAbikR",
        "colab_type": "code",
        "colab": {}
      },
      "cell_type": "code",
      "source": [
        "np.save('drive/My Drive/SC-Project/train_data.npy',train_data)\n",
        "np.save('drive/My Drive/SC-Project/test_data.npy',test_data)\n",
        "np.save('drive/My Drive/SC-Project/y_train.npy',y_train)\n",
        "np.save('drive/My Drive/SC-Project/y_test.npy',y_test)"
      ],
      "execution_count": 0,
      "outputs": []
    },
    {
      "metadata": {
        "id": "7hDNQAeLVxlj",
        "colab_type": "code",
        "colab": {}
      },
      "cell_type": "code",
      "source": [
        ""
      ],
      "execution_count": 0,
      "outputs": []
    }
  ]
}