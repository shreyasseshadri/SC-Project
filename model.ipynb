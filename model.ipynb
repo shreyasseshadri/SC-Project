{
  "nbformat": 4,
  "nbformat_minor": 0,
  "metadata": {
    "colab": {
      "name": "model.ipynb",
      "version": "0.3.2",
      "provenance": [],
      "collapsed_sections": [],
      "include_colab_link": true
    },
    "kernelspec": {
      "name": "python3",
      "display_name": "Python 3"
    },
    "accelerator": "GPU"
  },
  "cells": [
    {
      "cell_type": "markdown",
      "metadata": {
        "id": "view-in-github",
        "colab_type": "text"
      },
      "source": [
        "<a href=\"https://colab.research.google.com/github/shreyasseshadri/SC-Project/blob/master/model.ipynb\" target=\"_parent\"><img src=\"https://colab.research.google.com/assets/colab-badge.svg\" alt=\"Open In Colab\"/></a>"
      ]
    },
    {
      "metadata": {
        "id": "OEw7cTne7E3O",
        "colab_type": "code",
        "outputId": "ed5621c4-9a1f-4530-a7a8-bfca1d96b488",
        "colab": {
          "base_uri": "https://localhost:8080/",
          "height": 34
        }
      },
      "cell_type": "code",
      "source": [
        "%reset"
      ],
      "execution_count": 4,
      "outputs": [
        {
          "output_type": "stream",
          "text": [
            "Once deleted, variables cannot be recovered. Proceed (y/[n])? y\n"
          ],
          "name": "stdout"
        }
      ]
    },
    {
      "metadata": {
        "id": "RhDhPGjWxosg",
        "colab_type": "code",
        "outputId": "d04d29a8-d023-46ea-ab9c-b578a194639b",
        "colab": {
          "base_uri": "https://localhost:8080/",
          "height": 34
        }
      },
      "cell_type": "code",
      "source": [
        "# # Load the Drive helper and mount\n",
        "from google.colab import drive\n",
        "\n",
        "# # This will prompt for authorization.\n",
        "drive.mount('/content/drive')"
      ],
      "execution_count": 10,
      "outputs": [
        {
          "output_type": "stream",
          "text": [
            "Drive already mounted at /content/drive; to attempt to forcibly remount, call drive.mount(\"/content/drive\", force_remount=True).\n"
          ],
          "name": "stdout"
        }
      ]
    },
    {
      "metadata": {
        "id": "KuAGCZDlNA6g",
        "colab_type": "code",
        "colab": {}
      },
      "cell_type": "code",
      "source": [
        "import keras"
      ],
      "execution_count": 0,
      "outputs": []
    },
    {
      "metadata": {
        "id": "OPOfGtYMNA6j",
        "colab_type": "code",
        "colab": {}
      },
      "cell_type": "code",
      "source": [
        "import numpy as np\n",
        "import random as rn\n",
        "rn.seed(123)\n",
        "np.random.seed(123)\n",
        "from keras.models import Model\n",
        "from keras.layers import Input, Dense,Conv2D ,LSTM,Lambda,Flatten,Dropout\n",
        "from keras.utils import np_utils\n",
        "from keras import backend as K\n",
        "tf_session = K.get_session()\n",
        "from keras import regularizers\n",
        "import tensorflow as tf\n",
        "tf.set_random_seed(123)"
      ],
      "execution_count": 0,
      "outputs": []
    },
    {
      "metadata": {
        "id": "KwwGU0pXNA6q",
        "colab_type": "code",
        "colab": {}
      },
      "cell_type": "code",
      "source": [
        "def stack_dim(X):\n",
        "    conv_outputs=tf.unstack(X,axis=3)\n",
        "    return tf.concat(conv_outputs,axis=1)\n",
        "\n",
        "def get_shape(input_shape):\n",
        "    assert len(input_shape)==4\n",
        "    return (input_shape[0],input_shape[1]*input_shape[3],input_shape[2])\n",
        "\n",
        "def model(input_shape,hidden_size,dense_layer1,dense_layer2):\n",
        "    X_input=Input(input_shape)\n",
        "    X=Conv2D(32, (5, 5), input_shape=input_shape, activation='relu')(X_input)\n",
        "    X=Dropout(0.5)(X)\n",
        "    X=Lambda(stack_dim,output_shape=get_shape)(X)\n",
        "    X=LSTM(hidden_size,return_sequences=True)(X)\n",
        "    X=Dense(dense_layer1, activation='relu',kernel_regularizer=regularizers.l2(0.01))(X)\n",
        "    X=Flatten()(X)\n",
        "    X=Dropout(0.5)(X)\n",
        "    X=Dense(dense_layer2, activation='softmax')(X)\n",
        "    model = Model(inputs = X_input, outputs = X, name='sent_classifier')\n",
        "    return model"
      ],
      "execution_count": 0,
      "outputs": []
    },
    {
      "metadata": {
        "id": "CAayLXEyxlQz",
        "colab_type": "code",
        "colab": {}
      },
      "cell_type": "code",
      "source": [
        "X_train=np.load('drive/My Drive/SC-Project/train_data.npy')"
      ],
      "execution_count": 0,
      "outputs": []
    },
    {
      "metadata": {
        "id": "N1ufK3X6yEcv",
        "colab_type": "code",
        "colab": {}
      },
      "cell_type": "code",
      "source": [
        "X_test=np.load('drive/My Drive/SC-Project/X_test.npy')"
      ],
      "execution_count": 0,
      "outputs": []
    },
    {
      "metadata": {
        "id": "NivspLjXyYsp",
        "colab_type": "code",
        "colab": {}
      },
      "cell_type": "code",
      "source": [
        "y_train=np.load('drive/My Drive/SC-Project/y_train.npy')\n",
        "y_test=np.load('drive/My Drive/SC-Project/y_test.npy')"
      ],
      "execution_count": 0,
      "outputs": []
    },
    {
      "metadata": {
        "id": "8QOeD5DFy4Zx",
        "colab_type": "code",
        "colab": {}
      },
      "cell_type": "code",
      "source": [
        "m=model(X_train.shape[1:],128,50,2)"
      ],
      "execution_count": 0,
      "outputs": []
    },
    {
      "metadata": {
        "id": "CoPudLqBzLhz",
        "colab_type": "code",
        "colab": {}
      },
      "cell_type": "code",
      "source": [
        "from keras.optimizers import SGD,Adam\n",
        "# opt=SGD(lr=0.05, momentum=0.01,decay=0.0, nesterov=False)\n",
        "m.compile(optimizer='sgd',loss='binary_crossentropy',metrics=['accuracy'])"
      ],
      "execution_count": 0,
      "outputs": []
    },
    {
      "metadata": {
        "id": "6V6JpfciltkZ",
        "colab_type": "code",
        "colab": {}
      },
      "cell_type": "code",
      "source": [
        "def train(l,h):\n",
        "    train_size=h-l\n",
        "    train_pos=np.where(y_train[l:h][...,1]==1)[0]+l\n",
        "    train_neg=np.where(y_train[l:h][...,0]==1)[0]+l\n",
        "    np.random.seed(123)\n",
        "    pos=np.random.choice(train_pos,train_size//2)\n",
        "    np.random.seed(123)\n",
        "    neg=np.random.choice(train_neg,train_size-train_size//2)\n",
        "    indices=np.append(pos,neg,0)\n",
        "    np.random.seed(123)\n",
        "    np.random.shuffle(indices)\n",
        "    return indices"
      ],
      "execution_count": 0,
      "outputs": []
    },
    {
      "metadata": {
        "id": "Jreuyw-ZvMDc",
        "colab_type": "code",
        "colab": {}
      },
      "cell_type": "code",
      "source": [
        "train_index=train(0,2210)\n",
        "val_index=train(4000,8000)"
      ],
      "execution_count": 0,
      "outputs": []
    },
    {
      "metadata": {
        "id": "bBcbXE7ovtkm",
        "colab_type": "code",
        "colab": {
          "base_uri": "https://localhost:8080/",
          "height": 34
        },
        "outputId": "a2a5632f-b50e-4c2c-88cb-5f4f6aa477c1"
      },
      "cell_type": "code",
      "source": [
        "val_index"
      ],
      "execution_count": 15,
      "outputs": [
        {
          "output_type": "execute_result",
          "data": {
            "text/plain": [
              "array([4323, 4685, 6487, ..., 7127, 7990, 7329])"
            ]
          },
          "metadata": {
            "tags": []
          },
          "execution_count": 15
        }
      ]
    },
    {
      "metadata": {
        "id": "LbTs0RAOOUub",
        "colab_type": "code",
        "colab": {}
      },
      "cell_type": "code",
      "source": [
        "from sklearn.utils import resample\n",
        "ups_train_index = resample(train_index,replace=True,n_samples=4000,random_state=123)"
      ],
      "execution_count": 0,
      "outputs": []
    },
    {
      "metadata": {
        "id": "MaDnPBdkPmnw",
        "colab_type": "code",
        "colab": {
          "base_uri": "https://localhost:8080/",
          "height": 34
        },
        "outputId": "f27e004f-d30c-493b-f793-ca4fbd814a15"
      },
      "cell_type": "code",
      "source": [
        "len(ups_train_index)"
      ],
      "execution_count": 18,
      "outputs": [
        {
          "output_type": "execute_result",
          "data": {
            "text/plain": [
              "4000"
            ]
          },
          "metadata": {
            "tags": []
          },
          "execution_count": 18
        }
      ]
    },
    {
      "metadata": {
        "id": "lNZnLXJf3PoG",
        "colab_type": "code",
        "colab": {}
      },
      "cell_type": "code",
      "source": [
        "hist=m.fit(X_train[ups_train_index],y_train[ups_train_index],batch_size=64,epochs=20,verbose=1,validation_data=(X_train[val_index],y_train[val_index]))"
      ],
      "execution_count": 0,
      "outputs": []
    },
    {
      "metadata": {
        "id": "HvFxGLsSIWOC",
        "colab_type": "code",
        "colab": {}
      },
      "cell_type": "code",
      "source": [
        "m.save('drive/My Drive/SC-Project/final.h5')"
      ],
      "execution_count": 0,
      "outputs": []
    },
    {
      "metadata": {
        "id": "uwGs5ojm_lAn",
        "colab_type": "code",
        "colab": {}
      },
      "cell_type": "code",
      "source": [
        "from keras.models import load_model\n",
        "m = load_model('drive/My Drive/SC-Project/final.h5',custom_objects={\"tf\": tf})"
      ],
      "execution_count": 0,
      "outputs": []
    },
    {
      "metadata": {
        "id": "hF5Hh3HwdDfW",
        "colab_type": "code",
        "colab": {
          "base_uri": "https://localhost:8080/",
          "height": 51
        },
        "outputId": "f5ec1eb4-704e-4d59-c741-ec8bb3441bfa"
      },
      "cell_type": "code",
      "source": [
        "pred=m.evaluate(X_test,y_test)\n",
        "print(pred)"
      ],
      "execution_count": 20,
      "outputs": [
        {
          "output_type": "stream",
          "text": [
            "25000/25000 [==============================] - 4102s 164ms/step\n",
            "[0.7009602817535401, 0.90712]\n"
          ],
          "name": "stdout"
        }
      ]
    }
  ]
}