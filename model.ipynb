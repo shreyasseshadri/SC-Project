{
  "nbformat": 4,
  "nbformat_minor": 0,
  "metadata": {
    "colab": {
      "name": "model.ipynb",
      "version": "0.3.2",
      "provenance": [],
      "collapsed_sections": [],
      "include_colab_link": true
    },
    "kernelspec": {
      "name": "python3",
      "display_name": "Python 3"
    },
    "accelerator": "GPU"
  },
  "cells": [
    {
      "cell_type": "markdown",
      "metadata": {
        "id": "view-in-github",
        "colab_type": "text"
      },
      "source": [
        "<a href=\"https://colab.research.google.com/github/shreyasseshadri/SC-Project/blob/master/model.ipynb\" target=\"_parent\"><img src=\"https://colab.research.google.com/assets/colab-badge.svg\" alt=\"Open In Colab\"/></a>"
      ]
    },
    {
      "metadata": {
        "id": "OEw7cTne7E3O",
        "colab_type": "code",
        "outputId": "0d05d95c-3d7b-42f7-ffbf-4dfd7becebe9",
        "colab": {
          "base_uri": "https://localhost:8080/",
          "height": 34
        }
      },
      "cell_type": "code",
      "source": [
        "%reset"
      ],
      "execution_count": 3,
      "outputs": [
        {
          "output_type": "stream",
          "text": [
            "Once deleted, variables cannot be recovered. Proceed (y/[n])? y\n"
          ],
          "name": "stdout"
        }
      ]
    },
    {
      "metadata": {
        "id": "RhDhPGjWxosg",
        "colab_type": "code",
        "outputId": "e9a08b97-f490-468a-ddf5-50e7953f50f3",
        "colab": {
          "base_uri": "https://localhost:8080/",
          "height": 122
        }
      },
      "cell_type": "code",
      "source": [
        "# # Load the Drive helper and mount\n",
        "from google.colab import drive\n",
        "\n",
        "# # This will prompt for authorization.\n",
        "drive.mount('/content/drive')"
      ],
      "execution_count": 5,
      "outputs": [
        {
          "output_type": "stream",
          "text": [
            "Go to this URL in a browser: https://accounts.google.com/o/oauth2/auth?client_id=947318989803-6bn6qk8qdgf4n4g3pfee6491hc0brc4i.apps.googleusercontent.com&redirect_uri=urn%3Aietf%3Awg%3Aoauth%3A2.0%3Aoob&scope=email%20https%3A%2F%2Fwww.googleapis.com%2Fauth%2Fdocs.test%20https%3A%2F%2Fwww.googleapis.com%2Fauth%2Fdrive%20https%3A%2F%2Fwww.googleapis.com%2Fauth%2Fdrive.photos.readonly%20https%3A%2F%2Fwww.googleapis.com%2Fauth%2Fpeopleapi.readonly&response_type=code\n",
            "\n",
            "Enter your authorization code:\n",
            "··········\n",
            "Mounted at /content/drive\n"
          ],
          "name": "stdout"
        }
      ]
    },
    {
      "metadata": {
        "id": "KuAGCZDlNA6g",
        "colab_type": "code",
        "colab": {}
      },
      "cell_type": "code",
      "source": [
        "import keras"
      ],
      "execution_count": 0,
      "outputs": []
    },
    {
      "metadata": {
        "id": "OPOfGtYMNA6j",
        "colab_type": "code",
        "colab": {}
      },
      "cell_type": "code",
      "source": [
        "import numpy as np\n",
        "import random as rn\n",
        "rn.seed(123)\n",
        "np.random.seed(123)\n",
        "from keras.models import Model\n",
        "from keras.layers import Input, Dense,Conv2D ,LSTM,Lambda,Flatten,Dropout\n",
        "from keras.utils import np_utils\n",
        "from keras import backend as K\n",
        "tf_session = K.get_session()\n",
        "from keras import regularizers\n",
        "import tensorflow as tf\n",
        "tf.set_random_seed(123)"
      ],
      "execution_count": 0,
      "outputs": []
    },
    {
      "metadata": {
        "id": "KwwGU0pXNA6q",
        "colab_type": "code",
        "colab": {}
      },
      "cell_type": "code",
      "source": [
        "def stack_dim(X):\n",
        "    conv_outputs=tf.unstack(X,axis=3)\n",
        "    return tf.concat(conv_outputs,axis=1)\n",
        "\n",
        "def get_shape(input_shape):\n",
        "    assert len(input_shape)==4\n",
        "    return (input_shape[0],input_shape[1]*input_shape[3],input_shape[2])\n",
        "\n",
        "def model(input_shape,hidden_size,dense_layer1,dense_layer2):\n",
        "    X_input=Input(input_shape)\n",
        "    X=Conv2D(32, (5, 5), input_shape=input_shape, activation='relu')(X_input)\n",
        "    X=Dropout(0.5)(X)\n",
        "    X=Lambda(stack_dim,output_shape=get_shape)(X)\n",
        "    X=LSTM(hidden_size,return_sequences=True)(X)\n",
        "    X=Dense(dense_layer1, activation='relu',kernel_regularizer=regularizers.l2(0.01))(X)\n",
        "    X=Flatten()(X)\n",
        "    X=Dropout(0.5)(X)\n",
        "    X=Dense(dense_layer2, activation='softmax')(X)\n",
        "    model = Model(inputs = X_input, outputs = X, name='sent_classifier')\n",
        "    return model"
      ],
      "execution_count": 0,
      "outputs": []
    },
    {
      "metadata": {
        "id": "CAayLXEyxlQz",
        "colab_type": "code",
        "colab": {}
      },
      "cell_type": "code",
      "source": [
        "X_train=np.load('drive/My Drive/SC-Project/train_data.npy')"
      ],
      "execution_count": 0,
      "outputs": []
    },
    {
      "metadata": {
        "id": "N1ufK3X6yEcv",
        "colab_type": "code",
        "colab": {}
      },
      "cell_type": "code",
      "source": [
        "X_test=np.load('drive/My Drive/SC-Project/X_test1.npy')"
      ],
      "execution_count": 0,
      "outputs": []
    },
    {
      "metadata": {
        "id": "NivspLjXyYsp",
        "colab_type": "code",
        "colab": {}
      },
      "cell_type": "code",
      "source": [
        "y_train=np.load('drive/My Drive/SC-Project/y_train.npy')\n",
        "y_test=np.load('drive/My Drive/SC-Project/y_test1.npy')"
      ],
      "execution_count": 0,
      "outputs": []
    },
    {
      "metadata": {
        "id": "8QOeD5DFy4Zx",
        "colab_type": "code",
        "colab": {}
      },
      "cell_type": "code",
      "source": [
        "m=model(X_train.shape[1:],128,50,2)"
      ],
      "execution_count": 0,
      "outputs": []
    },
    {
      "metadata": {
        "id": "CoPudLqBzLhz",
        "colab_type": "code",
        "colab": {}
      },
      "cell_type": "code",
      "source": [
        "from keras.optimizers import SGD,Adam\n",
        "# opt=SGD(lr=0.05, momentum=0.01,decay=0.0, nesterov=False)\n",
        "m.compile(optimizer='sgd',loss='binary_crossentropy',metrics=['accuracy'])"
      ],
      "execution_count": 0,
      "outputs": []
    },
    {
      "metadata": {
        "id": "6V6JpfciltkZ",
        "colab_type": "code",
        "colab": {}
      },
      "cell_type": "code",
      "source": [
        "def train(l,h):\n",
        "    train_size=h-l\n",
        "    train_pos=np.where(y_train[l:h][...,1]==1)[0]+l\n",
        "    train_neg=np.where(y_train[l:h][...,0]==1)[0]+l\n",
        "    np.random.seed(123)\n",
        "    pos=np.random.choice(train_pos,train_size//2)\n",
        "    np.random.seed(123)\n",
        "    neg=np.random.choice(train_neg,train_size-train_size//2)\n",
        "    indices=np.append(pos,neg,0)\n",
        "    np.random.seed(123)\n",
        "    np.random.shuffle(indices)\n",
        "    return indices"
      ],
      "execution_count": 0,
      "outputs": []
    },
    {
      "metadata": {
        "id": "Jreuyw-ZvMDc",
        "colab_type": "code",
        "colab": {}
      },
      "cell_type": "code",
      "source": [
        "train_index=train(0,2210)\n",
        "val_index=train(4000,8000)"
      ],
      "execution_count": 0,
      "outputs": []
    },
    {
      "metadata": {
        "id": "bBcbXE7ovtkm",
        "colab_type": "code",
        "colab": {
          "base_uri": "https://localhost:8080/",
          "height": 34
        },
        "outputId": "a2a5632f-b50e-4c2c-88cb-5f4f6aa477c1"
      },
      "cell_type": "code",
      "source": [
        "val_index"
      ],
      "execution_count": 15,
      "outputs": [
        {
          "output_type": "execute_result",
          "data": {
            "text/plain": [
              "array([4323, 4685, 6487, ..., 7127, 7990, 7329])"
            ]
          },
          "metadata": {
            "tags": []
          },
          "execution_count": 15
        }
      ]
    },
    {
      "metadata": {
        "id": "LbTs0RAOOUub",
        "colab_type": "code",
        "colab": {}
      },
      "cell_type": "code",
      "source": [
        "from sklearn.utils import resample\n",
        "ups_train_index = resample(train_index,replace=True,n_samples=4000,random_state=123)"
      ],
      "execution_count": 0,
      "outputs": []
    },
    {
      "metadata": {
        "id": "MaDnPBdkPmnw",
        "colab_type": "code",
        "colab": {
          "base_uri": "https://localhost:8080/",
          "height": 34
        },
        "outputId": "f27e004f-d30c-493b-f793-ca4fbd814a15"
      },
      "cell_type": "code",
      "source": [
        "len(ups_train_index)"
      ],
      "execution_count": 18,
      "outputs": [
        {
          "output_type": "execute_result",
          "data": {
            "text/plain": [
              "4000"
            ]
          },
          "metadata": {
            "tags": []
          },
          "execution_count": 18
        }
      ]
    },
    {
      "metadata": {
        "id": "lNZnLXJf3PoG",
        "colab_type": "code",
        "colab": {
          "base_uri": "https://localhost:8080/",
          "height": 374
        },
        "outputId": "c740e968-266e-4fe4-eb22-e3719cb0d6a6"
      },
      "cell_type": "code",
      "source": [
        "hist=m.fit(X_train[ups_train_index],y_train[ups_train_index],batch_size=64,epochs=10,verbose=1,validation_data=(X_train[val_index],y_train[val_index]))"
      ],
      "execution_count": 19,
      "outputs": [
        {
          "output_type": "stream",
          "text": [
            "Train on 4000 samples, validate on 4000 samples\n",
            "Epoch 1/10\n",
            "4000/4000 [==============================] - 1083s 271ms/step - loss: 1.4032 - acc: 0.5842 - val_loss: 1.3593 - val_acc: 0.6162\n",
            "Epoch 2/10\n",
            "4000/4000 [==============================] - 1077s 269ms/step - loss: 1.2944 - acc: 0.6940 - val_loss: 1.3520 - val_acc: 0.5982\n",
            "Epoch 3/10\n",
            "4000/4000 [==============================] - 1072s 268ms/step - loss: 1.2365 - acc: 0.7305 - val_loss: 1.2817 - val_acc: 0.6597\n",
            "Epoch 4/10\n",
            "4000/4000 [==============================] - 1070s 268ms/step - loss: 1.1682 - acc: 0.7722 - val_loss: 1.2486 - val_acc: 0.6853\n",
            "Epoch 5/10\n",
            "4000/4000 [==============================] - 1072s 268ms/step - loss: 1.1147 - acc: 0.7903 - val_loss: 1.2090 - val_acc: 0.6945\n",
            "Epoch 6/10\n",
            "4000/4000 [==============================] - 1077s 269ms/step - loss: 1.0608 - acc: 0.8097 - val_loss: 1.1858 - val_acc: 0.7095\n",
            "Epoch 7/10\n",
            "4000/4000 [==============================] - 1076s 269ms/step - loss: 1.0120 - acc: 0.8333 - val_loss: 1.1652 - val_acc: 0.7123\n",
            "Epoch 8/10\n",
            "4000/4000 [==============================] - 1076s 269ms/step - loss: 0.9816 - acc: 0.8367 - val_loss: 1.1439 - val_acc: 0.7250\n",
            "Epoch 9/10\n",
            "4000/4000 [==============================] - 1076s 269ms/step - loss: 0.9477 - acc: 0.8552 - val_loss: 1.1466 - val_acc: 0.7085\n",
            "Epoch 10/10\n",
            "4000/4000 [==============================] - 1075s 269ms/step - loss: 0.9042 - acc: 0.8725 - val_loss: 1.1170 - val_acc: 0.7282\n"
          ],
          "name": "stdout"
        }
      ]
    },
    {
      "metadata": {
        "id": "BLtKBxVQ0A10",
        "colab_type": "code",
        "outputId": "fed2dc48-4735-4944-c1fe-64da3db91bee",
        "colab": {
          "base_uri": "https://localhost:8080/",
          "height": 374
        }
      },
      "cell_type": "code",
      "source": [
        "hist=m.fit(X_train[ups_train_index],y_train[ups_train_index],batch_size=64,epochs=10,verbose=1,validation_data=(X_train[val_index],y_train[val_index]))"
      ],
      "execution_count": 20,
      "outputs": [
        {
          "output_type": "stream",
          "text": [
            "Train on 4000 samples, validate on 4000 samples\n",
            "Epoch 1/10\n",
            "4000/4000 [==============================] - 1080s 270ms/step - loss: 0.8731 - acc: 0.8775 - val_loss: 1.1302 - val_acc: 0.7097\n",
            "Epoch 2/10\n",
            "4000/4000 [==============================] - 1080s 270ms/step - loss: 0.8163 - acc: 0.9055 - val_loss: 1.1497 - val_acc: 0.7067\n",
            "Epoch 3/10\n",
            "4000/4000 [==============================] - 1078s 269ms/step - loss: 0.8201 - acc: 0.8930 - val_loss: 1.1509 - val_acc: 0.6995\n",
            "Epoch 4/10\n",
            "4000/4000 [==============================] - 1081s 270ms/step - loss: 0.7899 - acc: 0.9020 - val_loss: 1.1170 - val_acc: 0.7133\n",
            "Epoch 5/10\n",
            "4000/4000 [==============================] - 1077s 269ms/step - loss: 0.7421 - acc: 0.9167 - val_loss: 1.1640 - val_acc: 0.6973\n",
            "Epoch 6/10\n",
            "4000/4000 [==============================] - 1075s 269ms/step - loss: 0.7213 - acc: 0.9223 - val_loss: 1.1039 - val_acc: 0.7190\n",
            "Epoch 7/10\n",
            "4000/4000 [==============================] - 1074s 269ms/step - loss: 0.7035 - acc: 0.9293 - val_loss: 1.1227 - val_acc: 0.7097\n",
            "Epoch 8/10\n",
            "4000/4000 [==============================] - 1069s 267ms/step - loss: 0.6949 - acc: 0.9220 - val_loss: 1.0579 - val_acc: 0.7285\n",
            "Epoch 9/10\n",
            "4000/4000 [==============================] - 1074s 268ms/step - loss: 0.6389 - acc: 0.9510 - val_loss: 1.1330 - val_acc: 0.7103\n",
            "Epoch 10/10\n",
            "4000/4000 [==============================] - 1072s 268ms/step - loss: 0.6593 - acc: 0.9313 - val_loss: 1.0525 - val_acc: 0.7272\n"
          ],
          "name": "stdout"
        }
      ]
    },
    {
      "metadata": {
        "id": "DtHak0NJ_jan",
        "colab_type": "code",
        "colab": {
          "base_uri": "https://localhost:8080/",
          "height": 34
        },
        "outputId": "c351f0ea-666e-4cfc-b5f4-0aa42e1c4fc6"
      },
      "cell_type": "code",
      "source": [
        "len(test_index)"
      ],
      "execution_count": 27,
      "outputs": [
        {
          "output_type": "execute_result",
          "data": {
            "text/plain": [
              "18000"
            ]
          },
          "metadata": {
            "tags": []
          },
          "execution_count": 27
        }
      ]
    },
    {
      "metadata": {
        "id": "HvFxGLsSIWOC",
        "colab_type": "code",
        "colab": {}
      },
      "cell_type": "code",
      "source": [
        "m.save('drive/My Drive/SC-Project/final.h5')"
      ],
      "execution_count": 0,
      "outputs": []
    },
    {
      "metadata": {
        "id": "uwGs5ojm_lAn",
        "colab_type": "code",
        "colab": {}
      },
      "cell_type": "code",
      "source": [
        "from keras.models import load_model\n",
        "m = load_model('drive/My Drive/SC-Project/final.h5',custom_objects={\"tf\": tf})"
      ],
      "execution_count": 0,
      "outputs": []
    },
    {
      "metadata": {
        "id": "hF5Hh3HwdDfW",
        "colab_type": "code",
        "colab": {
          "base_uri": "https://localhost:8080/",
          "height": 51
        },
        "outputId": "63d33054-8659-4476-ec50-3deb0c78cf55"
      },
      "cell_type": "code",
      "source": [
        "pred=m.evaluate(X_test,y_test)\n",
        "print(pred)"
      ],
      "execution_count": 27,
      "outputs": [
        {
          "output_type": "stream",
          "text": [
            "25000/25000 [==============================] - 3600s 144ms/step\n",
            "[0.7009602817535401, 0.90712]\n"
          ],
          "name": "stdout"
        }
      ]
    }
  ]
}